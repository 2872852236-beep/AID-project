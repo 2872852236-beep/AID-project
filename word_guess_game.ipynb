{
  "nbformat": 4,
  "nbformat_minor": 0,
  "metadata": {
    "colab": {
      "provenance": []
    },
    "kernelspec": {
      "name": "python3",
      "display_name": "Python 3"
    },
    "language_info": {
      "name": "python"
    }
  },
  "cells": [
    {
      "cell_type": "code",
      "source": [
        "!pip install jieba gensim\n",
        "import jieba\n",
        "from gensim.models import Word2Vec\n",
        "import re\n",
        "import random"
      ],
      "metadata": {
        "id": "0PSu5i4IW0z0",
        "outputId": "492e7b43-8066-4f23-f7e0-06745c0c921c",
        "colab": {
          "base_uri": "https://localhost:8080/"
        }
      },
      "execution_count": 1,
      "outputs": [
        {
          "output_type": "stream",
          "name": "stdout",
          "text": [
            "Requirement already satisfied: jieba in /usr/local/lib/python3.12/dist-packages (0.42.1)\n",
            "Requirement already satisfied: gensim in /usr/local/lib/python3.12/dist-packages (4.3.3)\n",
            "Requirement already satisfied: numpy<2.0,>=1.18.5 in /usr/local/lib/python3.12/dist-packages (from gensim) (1.26.4)\n",
            "Requirement already satisfied: scipy<1.14.0,>=1.7.0 in /usr/local/lib/python3.12/dist-packages (from gensim) (1.13.1)\n",
            "Requirement already satisfied: smart-open>=1.8.1 in /usr/local/lib/python3.12/dist-packages (from gensim) (7.3.1)\n",
            "Requirement already satisfied: wrapt in /usr/local/lib/python3.12/dist-packages (from smart-open>=1.8.1->gensim) (1.17.3)\n"
          ]
        }
      ]
    },
    {
      "cell_type": "code",
      "source": [
        "corpus = [\n",
        "    \"自然语言处理是人工智能的重要分支\",\n",
        "    \"Word2Vec可以将词语转换为向量\",\n",
        "    \"机器学习需要大量的数据训练模型\",\n",
        "    \"深度学习是机器学习的一个子领域\",\n",
        "    \"神经网络由多个神经元相互连接组成\",\n",
        "    \"语义相似度是自然语言处理的重要任务\",\n",
        "    \"CBOW和Skip-gram是Word2Vec的两种模型\",\n",
        "    \"词向量能够捕捉词语的语义信息\",\n",
        "    \"分词是文本预处理的关键步骤\"\n",
        "]"
      ],
      "metadata": {
        "id": "SY1pFw-YXImx"
      },
      "execution_count": 2,
      "outputs": []
    },
    {
      "cell_type": "code",
      "source": [
        "def preprocess(text):\n",
        "    text = re.sub(r'[^\\w\\s]', '', text)\n",
        "    words = jieba.lcut(text)\n",
        "    stopwords = {'的', '是', '在', '中', '由', '为', '可以', '将', '需要'}\n",
        "    return [w for w in words if w not in stopwords and len(w) > 1]\n",
        "\n",
        "# 处理语料并训练模型\n",
        "sentences = [preprocess(text) for text in corpus]\n",
        "model = Word2Vec(sentences, vector_size=100, window=3, min_count=1, sg=1)  # Skip-gram模型"
      ],
      "metadata": {
        "id": "OYw6mGdbXLti",
        "outputId": "ea5f284c-83af-47dc-a7ac-f7b0f50f77e1",
        "colab": {
          "base_uri": "https://localhost:8080/"
        }
      },
      "execution_count": 3,
      "outputs": [
        {
          "output_type": "stream",
          "name": "stderr",
          "text": [
            "Building prefix dict from the default dictionary ...\n",
            "DEBUG:jieba:Building prefix dict from the default dictionary ...\n",
            "Dumping model to file cache /tmp/jieba.cache\n",
            "DEBUG:jieba:Dumping model to file cache /tmp/jieba.cache\n",
            "Loading model cost 1.088 seconds.\n",
            "DEBUG:jieba:Loading model cost 1.088 seconds.\n",
            "Prefix dict has been built successfully.\n",
            "DEBUG:jieba:Prefix dict has been built successfully.\n"
          ]
        }
      ]
    },
    {
      "cell_type": "code",
      "source": [
        "def word_guess_game():\n",
        "    # 从词汇表中随机选择目标词\n",
        "    target_words = list(model.wv.key_to_index.keys())\n",
        "    target = random.choice(target_words)\n",
        "\n",
        "    # 获取最相似的3个词（排除自身）\n",
        "    try:\n",
        "        similar_words = [w for w, _ in model.wv.most_similar(target, topn=5) if w != target][:3]\n",
        "    except:\n",
        "        print(\"游戏初始化失败，换一个目标词重试\")\n",
        "        return\n",
        "\n",
        "    # 游戏交互\n",
        "    print(\"\\n🎮 词义猜谜游戏：根据以下相似词，猜出目标词（中文）\")\n",
        "    print(f\"提示：与这些词最相似 -> {similar_words}\")\n",
        "\n",
        "    # 学生输入答案（可在Colab中直接输入）\n",
        "    guess = input(\"请输入你的猜测：\")\n",
        "\n",
        "    # 验证答案\n",
        "    if guess == target:\n",
        "        # 计算相似度（展示模型分数）\n",
        "        similarity = model.wv.similarity(guess, similar_words[0])\n",
        "        print(f\"🎉 猜对了！目标词就是「{target}」\")\n",
        "        print(f\"相似度参考：与「{similar_words[0]}」的相似度为 {similarity:.2f}\")\n",
        "    else:\n",
        "        print(f\"❌ 猜错啦，正确答案是「{target}」\")\n",
        "\n",
        "# 启动游戏\n",
        "if __name__ == \"__main__\":\n",
        "    word_guess_game()\n",
        ""
      ],
      "metadata": {
        "id": "5Uu1JTZrXPnh",
        "outputId": "95e5a65f-e7e8-4d40-cd84-377276187ec8",
        "colab": {
          "base_uri": "https://localhost:8080/"
        }
      },
      "execution_count": 4,
      "outputs": [
        {
          "output_type": "stream",
          "name": "stdout",
          "text": [
            "\n",
            "🎮 词义猜谜游戏：根据以下相似词，猜出目标词（中文）\n",
            "提示：与这些词最相似 -> ['CBOW', '词语', '预处理']\n",
            "请输入你的猜测：AI\n",
            "❌ 猜错啦，正确答案是「重要」\n"
          ]
        }
      ]
    }
  ]
}