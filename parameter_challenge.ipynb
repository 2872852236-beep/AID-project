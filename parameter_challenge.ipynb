{
  "nbformat": 4,
  "nbformat_minor": 0,
  "metadata": {
    "colab": {
      "provenance": []
    },
    "kernelspec": {
      "name": "python3",
      "display_name": "Python 3"
    },
    "language_info": {
      "name": "python"
    }
  },
  "cells": [
    {
      "cell_type": "code",
      "source": [
        "!pip install jieba gensim\n",
        "\n",
        "import jieba\n",
        "from gensim.models import Word2Vec\n",
        "import re"
      ],
      "metadata": {
        "id": "1rF-6bFedSV_",
        "outputId": "9b1a2a33-0027-4117-a2bf-c02b3028d81b",
        "colab": {
          "base_uri": "https://localhost:8080/"
        }
      },
      "execution_count": 9,
      "outputs": [
        {
          "output_type": "stream",
          "name": "stdout",
          "text": [
            "Requirement already satisfied: jieba in /usr/local/lib/python3.12/dist-packages (0.42.1)\n",
            "Requirement already satisfied: gensim in /usr/local/lib/python3.12/dist-packages (4.3.3)\n",
            "Requirement already satisfied: numpy<2.0,>=1.18.5 in /usr/local/lib/python3.12/dist-packages (from gensim) (1.26.4)\n",
            "Requirement already satisfied: scipy<1.14.0,>=1.7.0 in /usr/local/lib/python3.12/dist-packages (from gensim) (1.13.1)\n",
            "Requirement already satisfied: smart-open>=1.8.1 in /usr/local/lib/python3.12/dist-packages (from gensim) (7.3.1)\n",
            "Requirement already satisfied: wrapt in /usr/local/lib/python3.12/dist-packages (from smart-open>=1.8.1->gensim) (1.17.3)\n"
          ]
        }
      ]
    },
    {
      "cell_type": "code",
      "source": [
        "corpus = [\n",
        "    \"猫 狗 动物 宠物 哺乳动物\",  # 预期关联：猫-狗、动物-宠物\n",
        "    \"苹果 香蕉 水果 食物 蔬菜\",  # 预期关联：苹果-香蕉、水果-食物\n",
        "    \"计算机 手机 电子 设备 工具\"   # 预期关联：计算机-手机、电子-设备\n",
        "]\n",
        "# 预处理（直接用空格分词简化步骤）\n",
        "sentences = [text.split() for text in corpus]"
      ],
      "metadata": {
        "id": "eW-o--2FdT5X"
      },
      "execution_count": 10,
      "outputs": []
    },
    {
      "cell_type": "code",
      "source": [
        "def score_model(model):\n",
        "    score = 0\n",
        "    # 测试1：猫和狗的相似度（预期高）\n",
        "    if \"猫\" in model.wv and \"狗\" in model.wv:\n",
        "        score += model.wv.similarity(\"猫\", \"狗\") * 10\n",
        "\n",
        "    # 测试2：苹果和香蕉的相似度（预期高）\n",
        "    if \"苹果\" in model.wv and \"香蕉\" in model.wv:\n",
        "        score += model.wv.similarity(\"苹果\", \"香蕉\") * 10\n",
        "\n",
        "    # 测试3：计算机和手机的相似度（预期高）\n",
        "    if \"计算机\" in model.wv and \"手机\" in model.wv:\n",
        "        score += model.wv.similarity(\"计算机\", \"手机\") * 10\n",
        "\n",
        "    # 扣分项：苹果和猫的相似度（预期低）\n",
        "    if \"苹果\" in model.wv and \"猫\" in model.wv:\n",
        "        score -= model.wv.similarity(\"苹果\", \"猫\") * 5\n",
        "\n",
        "    return round(score, 2)\n",
        "\n",
        "# 3. 学生参数配置区（核心互动点）\n",
        "print(\"⚙️ 参数挑战赛：调整以下参数，让模型评分更高！\")\n",
        "vector_size = int(input(\"设置词向量维度（建议10-200）：\"))  # 例如：50\n",
        "window = int(input(\"设置上下文窗口大小（建议2-10）：\"))      # 例如：3\n",
        "sg = int(input(\"选择模型类型（0=CBOW，1=Skip-gram）：\"))   # 例如：1\n",
        "\n",
        "# 4. 训练并评分\n",
        "model = Word2Vec(\n",
        "    sentences,\n",
        "    vector_size=vector_size,\n",
        "    window=window,\n",
        "    min_count=1,\n",
        "    sg=sg\n",
        ")\n",
        "final_score = score_model(model)\n",
        "print(f\"\\n🏆 你的模型评分：{final_score}分（满分约30分）\")\n",
        "\n",
        "# 5. 提示与探索\n",
        "if final_score > 25:\n",
        "    print(\"🌟 优秀！你的参数配置很合理\")\n",
        "elif final_score > 15:\n",
        "    print(\"👍 不错，试试增大window或调整模型类型？\")\n",
        "else:\n",
        "    print(\"💡 建议：向量维度不宜过小（如<30），窗口大小影响上下文捕捉\")"
      ],
      "metadata": {
        "id": "96DYvWD6dYko",
        "outputId": "f8b05d94-c5de-494b-b677-7dbdc85a5a53",
        "colab": {
          "base_uri": "https://localhost:8080/"
        }
      },
      "execution_count": 11,
      "outputs": [
        {
          "output_type": "stream",
          "name": "stdout",
          "text": [
            "⚙️ 参数挑战赛：调整以下参数，让模型评分更高！\n",
            "设置词向量维度（建议10-200）：100\n",
            "设置上下文窗口大小（建议2-10）：5\n",
            "选择模型类型（0=CBOW，1=Skip-gram）：0\n",
            "\n",
            "🏆 你的模型评分：0.5分（满分约30分）\n",
            "💡 建议：向量维度不宜过小（如<30），窗口大小影响上下文捕捉\n"
          ]
        }
      ]
    }
  ]
}