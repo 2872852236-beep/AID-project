{
  "nbformat": 4,
  "nbformat_minor": 0,
  "metadata": {
    "colab": {
      "provenance": []
    },
    "kernelspec": {
      "name": "python3",
      "display_name": "Python 3"
    },
    "language_info": {
      "name": "python"
    }
  },
  "cells": [
    {
      "cell_type": "code",
      "source": [
        "!pip install jieba gensim\n",
        "\n",
        "import jieba\n",
        "from gensim.models import Word2Vec\n",
        "import re"
      ],
      "metadata": {
        "id": "WFb8WQPUYR0Q",
        "outputId": "64ba2506-da3e-4925-b5b5-955c93bafa9d",
        "colab": {
          "base_uri": "https://localhost:8080/"
        }
      },
      "execution_count": 5,
      "outputs": [
        {
          "output_type": "stream",
          "name": "stdout",
          "text": [
            "Requirement already satisfied: jieba in /usr/local/lib/python3.12/dist-packages (0.42.1)\n",
            "Requirement already satisfied: gensim in /usr/local/lib/python3.12/dist-packages (4.3.3)\n",
            "Requirement already satisfied: numpy<2.0,>=1.18.5 in /usr/local/lib/python3.12/dist-packages (from gensim) (1.26.4)\n",
            "Requirement already satisfied: scipy<1.14.0,>=1.7.0 in /usr/local/lib/python3.12/dist-packages (from gensim) (1.13.1)\n",
            "Requirement already satisfied: smart-open>=1.8.1 in /usr/local/lib/python3.12/dist-packages (from gensim) (7.3.1)\n",
            "Requirement already satisfied: wrapt in /usr/local/lib/python3.12/dist-packages (from smart-open>=1.8.1->gensim) (1.17.3)\n"
          ]
        }
      ]
    },
    {
      "cell_type": "code",
      "source": [
        "corpus = [\n",
        "    \"国王 男人 女王 女人\",\n",
        "    \"父亲 儿子 母亲 女儿\",\n",
        "    \"医生 病人 老师 学生\",\n",
        "    \"北京 中国 华盛顿 美国\",\n",
        "    \"大 小 长 短\",\n",
        "    \"快 慢 高 低\"\n",
        "]\n",
        "sentences = [text.split() for text in corpus]  # 空格分词\n",
        "model = Word2Vec(sentences, vector_size=100, window=2, min_count=1, sg=1)"
      ],
      "metadata": {
        "id": "qH6JG3d2YVxV"
      },
      "execution_count": 6,
      "outputs": []
    },
    {
      "cell_type": "code",
      "source": [
        "def word_analogy(a, b, c):\n",
        "    \"\"\"计算 a - b + c 的结果词\"\"\"\n",
        "    try:\n",
        "        # 核心：向量运算 a_vec - b_vec + c_vec\n",
        "        result = model.wv.most_similar(positive=[a, c], negative=[b], topn=1)\n",
        "        return result[0][0]  # 返回最可能的词\n",
        "    except KeyError as e:\n",
        "        return f\"错误：词 {e} 不在模型词汇表中\"\n",
        "    except Exception as e:\n",
        "        return f\"计算失败：{e}\""
      ],
      "metadata": {
        "id": "vEhyqTy-YZgA"
      },
      "execution_count": 7,
      "outputs": []
    },
    {
      "cell_type": "code",
      "source": [
        "print(\"🧪 语义类比实验室：验证 'a - b + c = ?'\")\n",
        "print(\"示例：国王 - 男人 + 女人 = 女王；北京 - 中国 + 美国 = 华盛顿\")\n",
        "\n",
        "# 学生输入（可修改这3个词进行实验）\n",
        "a = input(\"请输入词a（如：国王）：\")\n",
        "b = input(\"请输入词b（如：男人）：\")\n",
        "c = input(\"请输入词c（如：女人）：\")\n",
        "\n",
        "# 计算并展示结果\n",
        "result = word_analogy(a, b, c)\n",
        "print(f\"\\n📝 推理结果：{a} - {b} + {c} = {result}\")\n",
        "\n",
        "# 4. 探索提示\n",
        "print(\"\\n🔍 尝试这些组合：\")\n",
        "print(\"1. 父亲 - 儿子 + 女儿 = ?\")\n",
        "print(\"2. 医生 - 病人 + 学生 = ?\")\n",
        "print(\"3. 大 - 小 + 短 = ?\")\n"
      ],
      "metadata": {
        "id": "Jhj_5rSzYj6o",
        "outputId": "97c1f74a-5f96-42b9-a78a-0bbb83f3b2a1",
        "colab": {
          "base_uri": "https://localhost:8080/"
        }
      },
      "execution_count": 8,
      "outputs": [
        {
          "output_type": "stream",
          "name": "stdout",
          "text": [
            "🧪 语义类比实验室：验证 'a - b + c = ?'\n",
            "示例：国王 - 男人 + 女人 = 女王；北京 - 中国 + 美国 = 华盛顿\n",
            "请输入词a（如：国王）：国王\n",
            "请输入词b（如：男人）：女人\n",
            "请输入词c（如：女人）：男人\n",
            "\n",
            "📝 推理结果：国王 - 女人 + 男人 = 病人\n",
            "\n",
            "🔍 尝试这些组合：\n",
            "1. 父亲 - 儿子 + 女儿 = ?\n",
            "2. 医生 - 病人 + 学生 = ?\n",
            "3. 大 - 小 + 短 = ?\n"
          ]
        }
      ]
    }
  ]
}